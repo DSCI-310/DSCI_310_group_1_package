import grouponefunctions as grp1

print(grouponefunctions.__version__)


from grouponefunctions import split_xy


X_train, y_train = grouponefunctions.split_xy(train_df, predictors, target)
X_test, y_test = grouponefunctions.split_xy(test_df, predictors, target) 


from grouponefunctions import plot_square_data

plot_square_data(X_train, y_train, ["feature1", "feature2", "feature3"], ["title1", "title2", "title3], "This is Plot 1")
plot_square_data(dependent, independednts, ["income"], ["retirement_age"], "Income and Retirement Age Relation")


from grouponefunctions import list_abs

list_abs(preprocessor, "pipeline-2", "onehotencoder", categorical_features)
