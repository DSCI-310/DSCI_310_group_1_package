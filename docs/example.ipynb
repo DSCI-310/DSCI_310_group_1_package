{
 "cells": [
  {
   "cell_type": "markdown",
   "metadata": {},
   "source": [
    "# Example usage\n",
    "\n",
    "To use `grouponefunctions` in a project:"
   ]
  },
  {
   "cell_type": "code",
   "execution_count": null,
   "metadata": {},
   "outputs": [],
   "source": [
    "import grouponefunctions as grp1\n",
    "\n",
    "print(grouponefunctions.__version__)"
   ]
  },
  {
   "cell_type": "markdown",
   "metadata": {},
   "source": [
    "If only a specific function is needed, for example, `split_xy()`:"
   ]
  },
  {
   "cell_type": "code",
   "execution_count": null,
   "metadata": {},
   "outputs": [],
   "source": [
    "from grouponefunctions import split_xy"
   ]
  },
  {
   "cell_type": "markdown",
   "metadata": {},
   "source": [
    "Below is a brief description of the usage of each function in the package. For a more comprehensive example, please walk through our [project](https://github.com/DSCI-310/DSCI-310-Group-1). "
   ]
  },
  {
   "cell_type": "markdown",
   "metadata": {},
   "source": [
    "## `split_xy`\n",
    "`split_xy` can be used to split data into predictors and target variables as follows:"
   ]
  },
  {
   "cell_type": "markdown",
   "metadata": {},
   "source": [
    "```python\n",
    "X_train, y_train = grouponefunctions.split_xy(train_df, predictors, target)\n",
    "X_test, y_test = grouponefunctions.split_xy(test_df, predictors, target) \n",
    "```"
   ]
  },
  {
   "cell_type": "markdown",
   "metadata": {},
   "source": [
    "## `plot_square_data`\n",
    "This function is capable at creating plots to display in a grid configuration. "
   ]
  },
  {
   "cell_type": "markdown",
   "metadata": {},
   "source": [
    "```python\n",
    "from grouponefunctions import plot_square_data\n",
    "\n",
    "plot_square_data(X_train, y_train, [\"feature1\", \"feature2\", \"feature3\"], [\"title1\", \"title2\", \"title3], \"This is Plot 1\")\n",
    "plot_square_data(dependent, independednts, [\"income\"], [\"retirement_age\"], \"Income and Retirement Age Relation\")\n",
    "```"
   ]
  },
  {
   "cell_type": "markdown",
   "metadata": {},
   "source": [
    "## `list_abs`\n",
    "This function list_abs can be used to create a list for the result of our notebook."
   ]
  },
  {
   "cell_type": "markdown",
   "metadata": {},
   "source": [
    "```python\n",
    "from grouponefunctions import list_abs\n",
    "\n",
    "list_abs(preprocessor, \"pipeline-2\", \"onehotencoder\", categorical_features)\n",
    "```"
   ]
  }
 ],
 "metadata": {
  "kernelspec": {
   "display_name": "Python 3 (ipykernel)",
   "language": "python",
   "name": "python3"
  },
  "language_info": {
   "codemirror_mode": {
    "name": "ipython",
    "version": 3
   },
   "file_extension": ".py",
   "mimetype": "text/x-python",
   "name": "python",
   "nbconvert_exporter": "python",
   "pygments_lexer": "ipython3",
   "version": "3.7.10"
  }
 },
 "nbformat": 4,
 "nbformat_minor": 4
}
